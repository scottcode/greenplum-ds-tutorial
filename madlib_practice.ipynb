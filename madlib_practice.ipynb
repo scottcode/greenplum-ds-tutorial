{
 "cells": [
  {
   "cell_type": "markdown",
   "metadata": {},
   "source": [
    "$$\\huge{\\text{Practice with Greenplum and MADlib}}$$"
   ]
  },
  {
   "cell_type": "markdown",
   "metadata": {},
   "source": [
    "In a previous session we saw examples of how to do regression and classification in Greenplum as applied to the Abalone dataset.  Now let's practice applying those techniques to predicting insurance claims. We will use a [sample insurance claims dataset](https://www.kaggle.com/easonlai/sample-insurance-claim-prediction-dataset#insurance3r2.csv) from Kaggle. \n",
    "\n",
    "The Kaggle page doesn't provide a whole lot of context, but as you might guess from the name of the competition and the column names below, the goal is to predict whether a person will file a claim (`insuranceclaim`). The predictors that are available are the other colums: age, sex, BMI, steps, children, whether they smoke, the region they are in. and \"charges\". See how well we can predict claims. \n",
    "\n",
    "| Column # | Column name |\n",
    "|  ------  |  ---------  |\n",
    "|    1     | age |\n",
    "|    2     | sex |\n",
    "|    3     | bmi |\n",
    "|    4     | steps |\n",
    "|    5     | children |\n",
    "|    6     | smoker |\n",
    "|    7     | region |\n",
    "|    8     | charges |\n",
    "|    9     | insuranceclaim |"
   ]
  },
  {
   "cell_type": "markdown",
   "metadata": {
    "toc": true
   },
   "source": [
    "<h1>Table of Contents<span class=\"tocSkip\"></span></h1>\n",
    "<div class=\"toc\"><ul class=\"toc-item\"><li><span><a href=\"#Preliminaries\" data-toc-modified-id=\"Preliminaries-1\"><span class=\"toc-item-num\">1&nbsp;&nbsp;</span>Preliminaries</a></span><ul class=\"toc-item\"><li><span><a href=\"#Connect-to-the-database\" data-toc-modified-id=\"Connect-to-the-database-1.1\"><span class=\"toc-item-num\">1.1&nbsp;&nbsp;</span>Connect to the database</a></span></li><li><span><a href=\"#Imports-and-globals\" data-toc-modified-id=\"Imports-and-globals-1.2\"><span class=\"toc-item-num\">1.2&nbsp;&nbsp;</span>Imports and globals</a></span></li><li><span><a href=\"#Load-Data\" data-toc-modified-id=\"Load-Data-1.3\"><span class=\"toc-item-num\">1.3&nbsp;&nbsp;</span>Load Data</a></span></li></ul></li><li><span><a href=\"#Explore-data\" data-toc-modified-id=\"Explore-data-2\"><span class=\"toc-item-num\">2&nbsp;&nbsp;</span>Explore data</a></span></li><li><span><a href=\"#Encode-categorical-variables\" data-toc-modified-id=\"Encode-categorical-variables-3\"><span class=\"toc-item-num\">3&nbsp;&nbsp;</span>Encode categorical variables</a></span></li><li><span><a href=\"#Train-Test-split\" data-toc-modified-id=\"Train-Test-split-4\"><span class=\"toc-item-num\">4&nbsp;&nbsp;</span>Train-Test split</a></span></li><li><span><a href=\"#Modeling-(Classification)\" data-toc-modified-id=\"Modeling-(Classification)-5\"><span class=\"toc-item-num\">5&nbsp;&nbsp;</span>Modeling (Classification)</a></span><ul class=\"toc-item\"><li><span><a href=\"#Logistic-Regression\" data-toc-modified-id=\"Logistic-Regression-5.1\"><span class=\"toc-item-num\">5.1&nbsp;&nbsp;</span>Logistic Regression</a></span></li><li><span><a href=\"#Random-Forest-Classifier\" data-toc-modified-id=\"Random-Forest-Classifier-5.2\"><span class=\"toc-item-num\">5.2&nbsp;&nbsp;</span>Random Forest Classifier</a></span></li></ul></li></ul></div>"
   ]
  },
  {
   "cell_type": "markdown",
   "metadata": {},
   "source": [
    "# Preliminaries"
   ]
  },
  {
   "cell_type": "markdown",
   "metadata": {},
   "source": [
    "## Connect to the database\n",
    "\n",
    "`dbconnect` is a custom module that helps with connecting to the database and loading an extension called `sql_magic`, which enables the ability to run a query by putting `%%read_sql` at the top of a cell. "
   ]
  },
  {
   "cell_type": "code",
   "execution_count": null,
   "metadata": {
    "ExecuteTime": {
     "end_time": "2019-01-28T19:08:03.656162Z",
     "start_time": "2019-01-28T19:08:03.331572Z"
    }
   },
   "outputs": [],
   "source": [
    "%matplotlib inline"
   ]
  },
  {
   "cell_type": "code",
   "execution_count": null,
   "metadata": {
    "ExecuteTime": {
     "end_time": "2019-01-28T19:08:03.927076Z",
     "start_time": "2019-01-28T19:08:03.658264Z"
    }
   },
   "outputs": [],
   "source": [
    "import dbconnect"
   ]
  },
  {
   "cell_type": "markdown",
   "metadata": {},
   "source": [
    "The credential file contents should look something like below. \n",
    "\n",
    "    [database_creds]\n",
    "    host: <HOSTNAME_OR_IP>\n",
    "    port: 5432\n",
    "    user: <USERNAME>\n",
    "    database: <DATABASE_NAME>\n",
    "    password: <PASSWORD>\n",
    "\n",
    "The values in angle brackets (\\<...\\>) are placeholders that need to be filled in. For example:\n",
    "\n",
    "    [database_creds]\n",
    "    host: 1.2.3.4\n",
    "    port: 5432\n",
    "    user: scott\n",
    "    database: practice_db\n",
    "    password: my_$ecretP@ss\n",
    "\n",
    "Running the `connect_and_register_sql_magic()` function below will add a global variable `conn` that is a SQLAlchemy connection object."
   ]
  },
  {
   "cell_type": "code",
   "execution_count": null,
   "metadata": {
    "ExecuteTime": {
     "end_time": "2019-01-28T19:08:03.972664Z",
     "start_time": "2019-01-28T19:08:03.929096Z"
    }
   },
   "outputs": [],
   "source": [
    "db_credential_file = '../.dbcred'\n",
    "dbconnect.connect_and_register_sql_magic(\n",
    "    db_credential_file,\n",
    "    conn_name='conn'\n",
    ")"
   ]
  },
  {
   "cell_type": "markdown",
   "metadata": {},
   "source": [
    "## Imports and globals"
   ]
  },
  {
   "cell_type": "code",
   "execution_count": null,
   "metadata": {
    "ExecuteTime": {
     "end_time": "2019-01-28T19:22:53.598131Z",
     "start_time": "2019-01-28T19:22:53.586658Z"
    }
   },
   "outputs": [],
   "source": [
    "import math\n",
    "import six\n",
    "import pandas as pd\n",
    "from sqlalchemy import create_engine\n",
    "\n",
    "graphviz_installed = True\n",
    "\n",
    "try:\n",
    "    import graphviz\n",
    "except ImportError:\n",
    "    print(\"installing graphviz\")\n",
    "    install_graphviz = six.moves.input('Install `graphviz`? (y/n)')\n",
    "    if install_graphviz == 'y':\n",
    "        !pip install graphviz\n",
    "    else:\n",
    "        raise ImportError\n",
    "except:\n",
    "    graphviz_installed = False\n",
    "    print(\"Could not load or install graphviz. Will not show random forest visualization below. \")"
   ]
  },
  {
   "cell_type": "code",
   "execution_count": null,
   "metadata": {
    "ExecuteTime": {
     "end_time": "2019-01-28T19:08:03.981508Z",
     "start_time": "2019-01-28T19:08:03.979008Z"
    }
   },
   "outputs": [],
   "source": [
    "pd.set_option('display.max_columns', 200)"
   ]
  },
  {
   "cell_type": "code",
   "execution_count": null,
   "metadata": {
    "ExecuteTime": {
     "end_time": "2019-01-28T19:08:03.985682Z",
     "start_time": "2019-01-28T19:08:03.983289Z"
    }
   },
   "outputs": [],
   "source": [
    "schema = 'ds_practice'"
   ]
  },
  {
   "cell_type": "code",
   "execution_count": null,
   "metadata": {
    "ExecuteTime": {
     "end_time": "2019-01-28T19:08:07.001104Z",
     "start_time": "2019-01-28T19:08:03.987630Z"
    }
   },
   "outputs": [],
   "source": [
    "%read_sql DROP SCHEMA IF EXISTS {schema} CASCADE;\n",
    "%read_sql CREATE SCHEMA {schema};"
   ]
  },
  {
   "cell_type": "markdown",
   "metadata": {},
   "source": [
    "## Load Data"
   ]
  },
  {
   "cell_type": "code",
   "execution_count": null,
   "metadata": {
    "ExecuteTime": {
     "end_time": "2019-01-28T19:08:07.006962Z",
     "start_time": "2019-01-28T19:08:07.003850Z"
    }
   },
   "outputs": [],
   "source": [
    "claims_data_path = '../input/insurance3r2.csv'"
   ]
  },
  {
   "cell_type": "code",
   "execution_count": null,
   "metadata": {
    "ExecuteTime": {
     "end_time": "2019-01-28T19:08:07.016964Z",
     "start_time": "2019-01-28T19:08:07.009155Z"
    }
   },
   "outputs": [],
   "source": [
    "df_claims = pd.read_csv(claims_data_path)"
   ]
  },
  {
   "cell_type": "code",
   "execution_count": null,
   "metadata": {
    "ExecuteTime": {
     "end_time": "2019-01-28T19:08:07.025202Z",
     "start_time": "2019-01-28T19:08:07.018733Z"
    }
   },
   "outputs": [],
   "source": [
    "df_claims.info()"
   ]
  },
  {
   "cell_type": "markdown",
   "metadata": {},
   "source": [
    "**Add unique ID column**\n",
    "\n",
    "In general having a unique identifier for each record can be helpful. In particular, some algorithms use a unique ID internally to keep track. The parameter `index=True` in the Python code below uploads an index to the Greenplum table, matching the index of the local Pandas dataframe. In this case it is simply zero-indexed based on the order the data was read in from the CSV. The `index_label` parameter specifies the column name that the index will have in the database table (in this case, `id`). "
   ]
  },
  {
   "cell_type": "code",
   "execution_count": null,
   "metadata": {
    "ExecuteTime": {
     "end_time": "2019-01-28T19:08:09.040988Z",
     "start_time": "2019-01-28T19:08:07.027197Z"
    }
   },
   "outputs": [],
   "source": [
    "df_claims.to_sql(\n",
    "    'claims', \n",
    "    conn, \n",
    "    schema=schema, \n",
    "    if_exists='replace', \n",
    "    index=True, \n",
    "    index_label='id',\n",
    "    chunksize=10000)"
   ]
  },
  {
   "cell_type": "markdown",
   "metadata": {},
   "source": [
    "# Explore data"
   ]
  },
  {
   "cell_type": "code",
   "execution_count": null,
   "metadata": {
    "ExecuteTime": {
     "end_time": "2019-01-28T19:08:09.709749Z",
     "start_time": "2019-01-28T19:08:09.044375Z"
    }
   },
   "outputs": [],
   "source": [
    "%%read_sql\n",
    "SELECT * FROM {schema}.claims\n",
    "LIMIT 4"
   ]
  },
  {
   "cell_type": "code",
   "execution_count": null,
   "metadata": {
    "ExecuteTime": {
     "end_time": "2019-01-28T19:08:11.505829Z",
     "start_time": "2019-01-28T19:08:09.711564Z"
    }
   },
   "outputs": [],
   "source": [
    "%%read_sql\n",
    "DROP TABLE IF EXISTS {schema}.claims_summary CASCADE;\n",
    "SELECT madlib.summary(\n",
    "    '{schema}.claims',   -- source_table\n",
    "    '{schema}.claims_summary',  -- output_table\n",
    "    NULL,  -- target_cols\n",
    "    NULL,  -- grouping_cols\n",
    "    TRUE,  -- get_distinct\n",
    "    TRUE,  -- get_quartiles\n",
    "    NULL,  -- ntile_array\n",
    "    10,  -- how_many_mfv\n",
    "    FALSE  -- get_estimates\n",
    ")"
   ]
  },
  {
   "cell_type": "code",
   "execution_count": null,
   "metadata": {
    "ExecuteTime": {
     "end_time": "2019-01-28T19:08:12.185854Z",
     "start_time": "2019-01-28T19:08:11.507831Z"
    }
   },
   "outputs": [],
   "source": [
    "%%read_sql\n",
    "SELECT * FROM {schema}.claims_summary\n",
    "ORDER BY column_number"
   ]
  },
  {
   "cell_type": "markdown",
   "metadata": {},
   "source": [
    "# Encode categorical variables"
   ]
  },
  {
   "cell_type": "markdown",
   "metadata": {},
   "source": [
    "Convert region to `varchar` data type so the categorical encoding will work"
   ]
  },
  {
   "cell_type": "code",
   "execution_count": null,
   "metadata": {
    "ExecuteTime": {
     "end_time": "2019-01-28T19:08:13.513245Z",
     "start_time": "2019-01-28T19:08:12.187773Z"
    }
   },
   "outputs": [],
   "source": [
    "%%read_sql\n",
    "DROP TABLE IF EXISTS {schema}.claims_region_text CASCADE;\n",
    "CREATE TABLE {schema}.claims_region_text\n",
    "AS\n",
    "SELECT\n",
    "    id,\n",
    "    age,\n",
    "    sex,\n",
    "    bmi,\n",
    "    steps,\n",
    "    children,\n",
    "    smoker,\n",
    "    region::varchar as region,\n",
    "    charges,\n",
    "    insuranceclaim,\n",
    "    insuranceclaim > 0 as insuranceclaim_bool\n",
    "FROM {schema}.claims"
   ]
  },
  {
   "cell_type": "code",
   "execution_count": null,
   "metadata": {
    "ExecuteTime": {
     "end_time": "2019-01-28T19:08:14.963910Z",
     "start_time": "2019-01-28T19:08:13.516045Z"
    }
   },
   "outputs": [],
   "source": [
    "%%read_sql\n",
    "DROP TABLE IF EXISTS {schema}.claims_encoded CASCADE;\n",
    "SELECT madlib.encode_categorical_variables(\n",
    "    '{schema}.claims_region_text',  -- input table\n",
    "    '{schema}.claims_encoded',  -- output table\n",
    "    'region'   -- categorical_cols\n",
    ")"
   ]
  },
  {
   "cell_type": "code",
   "execution_count": null,
   "metadata": {
    "ExecuteTime": {
     "end_time": "2019-01-28T19:08:15.640073Z",
     "start_time": "2019-01-28T19:08:14.965801Z"
    }
   },
   "outputs": [],
   "source": [
    "%%read_sql\n",
    "SELECT * FROM {schema}.claims_encoded\n",
    "LIMIT 5"
   ]
  },
  {
   "cell_type": "code",
   "execution_count": null,
   "metadata": {
    "ExecuteTime": {
     "end_time": "2019-01-28T19:08:17.781107Z",
     "start_time": "2019-01-28T19:08:15.641783Z"
    }
   },
   "outputs": [],
   "source": [
    "%%read_sql\n",
    "DROP TABLE IF EXISTS {schema}.claims_correlations CASCADE;\n",
    "DROP TABLE IF EXISTS {schema}.claims_correlations_summary CASCADE;\n",
    "SELECT\n",
    "madlib.correlation(\n",
    "    '{schema}.claims_encoded', -- source_table,\n",
    "    '{schema}.claims_correlations', -- output_table,\n",
    "    'age,sex,bmi,steps,children,smoker,charges,insuranceclaim,region_0,region_1,region_2,region_3', -- target_cols,\n",
    "    TRUE, -- verbose,\n",
    "    NULL  -- grouping_columns\n",
    ")"
   ]
  },
  {
   "cell_type": "code",
   "execution_count": null,
   "metadata": {
    "ExecuteTime": {
     "end_time": "2019-01-28T19:08:18.441573Z",
     "start_time": "2019-01-28T19:08:17.782953Z"
    }
   },
   "outputs": [],
   "source": [
    "%%read_sql\n",
    "SELECT * FROM {schema}.claims_correlations\n",
    "ORDER BY\n",
    "    column_position"
   ]
  },
  {
   "cell_type": "markdown",
   "metadata": {},
   "source": [
    "# Train-Test split"
   ]
  },
  {
   "cell_type": "code",
   "execution_count": null,
   "metadata": {
    "ExecuteTime": {
     "end_time": "2019-01-28T19:08:21.289295Z",
     "start_time": "2019-01-28T19:08:18.443293Z"
    }
   },
   "outputs": [],
   "source": [
    "%%read_sql\n",
    "DROP TABLE IF EXISTS {schema}.claims_eval CASCADE;\n",
    "DROP TABLE IF EXISTS {schema}.claims_eval_train CASCADE;\n",
    "DROP TABLE IF EXISTS {schema}.claims_eval_test CASCADE;\n",
    "SELECT madlib.train_test_split(\n",
    "    '{schema}.claims_encoded', -- source_table,\n",
    "    '{schema}.claims_eval', -- output_table,\n",
    "    0.7, -- train_proportion,\n",
    "    NULL, -- test_proportion,\n",
    "    NULL, -- grouping_cols,\n",
    "    'id,age,sex,bmi,steps,children,smoker,charges,region_0,region_1,region_2,region_3,insuranceclaim,insuranceclaim_bool', -- target_cols,\n",
    "    FALSE, -- with_replacement,\n",
    "    TRUE -- separate_output_tables\n",
    ")"
   ]
  },
  {
   "cell_type": "code",
   "execution_count": null,
   "metadata": {
    "ExecuteTime": {
     "end_time": "2019-01-28T19:08:21.947510Z",
     "start_time": "2019-01-28T19:08:21.291352Z"
    }
   },
   "outputs": [],
   "source": [
    "%%read_sql\n",
    "SELECT count(*) as n\n",
    "FROM {schema}.claims_eval_train"
   ]
  },
  {
   "cell_type": "code",
   "execution_count": null,
   "metadata": {
    "ExecuteTime": {
     "end_time": "2019-01-28T19:08:22.599305Z",
     "start_time": "2019-01-28T19:08:21.949548Z"
    }
   },
   "outputs": [],
   "source": [
    "%%read_sql\n",
    "SELECT count(*) as n\n",
    "FROM {schema}.claims_eval_test"
   ]
  },
  {
   "cell_type": "markdown",
   "metadata": {},
   "source": [
    "# Modeling (Classification)\n",
    "\n",
    "Since the original target variable is binary, we'll stick to classification approaches. "
   ]
  },
  {
   "cell_type": "markdown",
   "metadata": {},
   "source": [
    "## Logistic Regression"
   ]
  },
  {
   "cell_type": "markdown",
   "metadata": {},
   "source": [
    "Note: drop one of the 1-hot-encoded variables (region) to remove perfect collinearity"
   ]
  },
  {
   "cell_type": "code",
   "execution_count": null,
   "metadata": {
    "ExecuteTime": {
     "end_time": "2019-01-28T19:08:25.354792Z",
     "start_time": "2019-01-28T19:08:22.601386Z"
    }
   },
   "outputs": [],
   "source": [
    "%%read_sql\n",
    "DROP TABLE IF EXISTS {schema}.claims_logreg_model;\n",
    "DROP TABLE IF EXISTS {schema}.claims_logreg_model_summary;\n",
    "SELECT madlib.logregr_train(\n",
    "    '{schema}.claims_eval_train', -- source_table,\n",
    "    '{schema}.claims_logreg_model', -- out_table,\n",
    "    'insuranceclaim_bool', -- dependent_varname,\n",
    "    'ARRAY[\n",
    "        1,\n",
    "        age,\n",
    "        sex,\n",
    "        bmi,\n",
    "        steps,\n",
    "        children,\n",
    "        smoker,\n",
    "        charges,\n",
    "        region_0,\n",
    "        region_1,\n",
    "        region_2\n",
    "    ]' -- independent_varname,\n",
    "    --, -- grouping_cols,\n",
    "    --, -- max_iter,\n",
    "    --, -- optimizer,\n",
    "    --, -- tolerance,\n",
    "     -- verbose\n",
    ")"
   ]
  },
  {
   "cell_type": "code",
   "execution_count": null,
   "metadata": {
    "ExecuteTime": {
     "end_time": "2019-01-28T19:08:26.015865Z",
     "start_time": "2019-01-28T19:08:25.356863Z"
    }
   },
   "outputs": [],
   "source": [
    "%%read_sql\n",
    "SELECT * FROM {schema}.claims_logreg_model"
   ]
  },
  {
   "cell_type": "code",
   "execution_count": null,
   "metadata": {
    "ExecuteTime": {
     "end_time": "2019-01-28T19:08:26.701590Z",
     "start_time": "2019-01-28T19:08:26.018085Z"
    }
   },
   "outputs": [],
   "source": [
    "%%read_sql\n",
    "SELECT unnest(coef) as coef\n",
    "FROM {schema}.claims_logreg_model"
   ]
  },
  {
   "cell_type": "markdown",
   "metadata": {},
   "source": [
    "`f_unnest_ord(anyarray)` is a PL/SQL user-defined function for unnesting an array and getting the 1-indexed index for each value. The benefit of using this function is that there aren't guarantees that simply using `unnest()` will maintain the original order with the array in the results that you get back. \n",
    "\n",
    "`f_unnest_ord()` was taken from this [StackOverflow answer](https://stackoverflow.com/a/8767450/1789708)"
   ]
  },
  {
   "cell_type": "code",
   "execution_count": null,
   "metadata": {
    "ExecuteTime": {
     "end_time": "2019-01-28T19:08:27.338473Z",
     "start_time": "2019-01-28T19:08:26.703350Z"
    }
   },
   "outputs": [],
   "source": [
    "%%read_sql\n",
    "CREATE OR REPLACE FUNCTION \n",
    "    {schema}.f_unnest_ord(anyarray, OUT val anyelement, OUT ordinality integer)\n",
    "  RETURNS SETOF record LANGUAGE sql IMMUTABLE AS\n",
    "'SELECT $1[i], i - array_lower($1,1) + 1\n",
    " FROM   generate_series(array_lower($1,1), array_upper($1,1)) i';"
   ]
  },
  {
   "cell_type": "code",
   "execution_count": null,
   "metadata": {
    "ExecuteTime": {
     "end_time": "2019-01-28T19:08:27.979260Z",
     "start_time": "2019-01-28T19:08:27.340472Z"
    }
   },
   "outputs": [],
   "source": [
    "%%read_sql\n",
    "SELECT ({schema}.f_unnest_ord(coef)).*\n",
    "FROM {schema}.claims_logreg_model"
   ]
  },
  {
   "cell_type": "markdown",
   "metadata": {},
   "source": [
    "The `%%read_sql` magic command can optionally store the query result in a Pandas DataFrame if you supply a name to store it in. In the example below, `logreg_coefs` is the variable name that we will store a 1-by-1 shaped dataframe with a list of the coefficients. "
   ]
  },
  {
   "cell_type": "code",
   "execution_count": null,
   "metadata": {
    "ExecuteTime": {
     "end_time": "2019-01-28T19:08:28.695450Z",
     "start_time": "2019-01-28T19:08:27.981171Z"
    },
    "scrolled": true
   },
   "outputs": [],
   "source": [
    "%%read_sql logreg_coefs\n",
    "SELECT coef \n",
    "FROM {schema}.claims_logreg_model"
   ]
  },
  {
   "cell_type": "markdown",
   "metadata": {},
   "source": [
    "So we can view the coefficients with the variable names beside them, we have copied the names from the modeling step and `zip` them together with the coefficient values"
   ]
  },
  {
   "cell_type": "code",
   "execution_count": null,
   "metadata": {
    "ExecuteTime": {
     "end_time": "2019-01-28T19:08:28.702479Z",
     "start_time": "2019-01-28T19:08:28.697386Z"
    }
   },
   "outputs": [],
   "source": [
    "logreg_coef_names = (\n",
    "    'intercept',\n",
    "    'age',\n",
    "    'sex',\n",
    "    'bmi',\n",
    "    'steps',\n",
    "    'children',\n",
    "    'smoker',\n",
    "    'charges',\n",
    "    'region_0',\n",
    "    'region_1',\n",
    "    'region_2'\n",
    ")\n",
    "tuple(zip(logreg_coef_names, logreg_coefs.iloc[0,0]))"
   ]
  },
  {
   "cell_type": "markdown",
   "metadata": {},
   "source": [
    "**Cross join model with table to be scored**\n",
    "\n",
    "Now that we have a model with coefficients, we can make predictions on records previously unseen by the model. In the current version of MADlib (1.15.1), the way to predict probability using a logistic regression model is to `CROSS JOIN` the test set records with the single-row model table. A `CROSS JOIN` produces the cartesian product between all records in both tables, meaning it pairs every record from one table with every record in the other table. In Postgres/Greenplum this can be done be explicitly using the `CROSS JOIN` statement, or you can simply list the two tables in the `FROM` clause separated by a comma. "
   ]
  },
  {
   "cell_type": "code",
   "execution_count": null,
   "metadata": {
    "ExecuteTime": {
     "end_time": "2019-01-28T19:08:30.044001Z",
     "start_time": "2019-01-28T19:08:28.704423Z"
    }
   },
   "outputs": [],
   "source": [
    "%%read_sql\n",
    "DROP TABLE IF EXISTS {schema}.claims_logreg_test_proba CASCADE;\n",
    "CREATE TABLE {schema}.claims_logreg_test_proba\n",
    "AS\n",
    "SELECT madlib.logregr_predict_prob(\n",
    "        coef, \n",
    "        ARRAY[\n",
    "            1,\n",
    "            age,\n",
    "            sex,\n",
    "            bmi,\n",
    "            steps,\n",
    "            children,\n",
    "            smoker,\n",
    "            charges,\n",
    "            region_0,\n",
    "            region_1,\n",
    "            region_2\n",
    "        ] \n",
    "    ) as proba,\n",
    "    test.insuranceclaim\n",
    "FROM {schema}.claims_eval_test test, {schema}.claims_logreg_model model\n",
    ";"
   ]
  },
  {
   "cell_type": "code",
   "execution_count": null,
   "metadata": {
    "ExecuteTime": {
     "end_time": "2019-01-28T19:08:30.729021Z",
     "start_time": "2019-01-28T19:08:30.046523Z"
    }
   },
   "outputs": [],
   "source": [
    "%%read_sql\n",
    "SELECT * FROM {schema}.claims_logreg_test_proba\n",
    "LIMIT 6"
   ]
  },
  {
   "cell_type": "code",
   "execution_count": null,
   "metadata": {
    "ExecuteTime": {
     "end_time": "2019-01-28T19:08:31.518080Z",
     "start_time": "2019-01-28T19:08:30.730731Z"
    }
   },
   "outputs": [],
   "source": [
    "%%read_sql\n",
    "SELECT madlib.area_under_roc(\n",
    "    '{schema}.claims_logreg_test_proba', -- table_in, \n",
    "    '{schema}.claims_logreg_test_auc',  --table_out,\n",
    "    'proba',  -- prediction_col, \n",
    "    'insuranceclaim'  --observed_col, \n",
    ")"
   ]
  },
  {
   "cell_type": "code",
   "execution_count": null,
   "metadata": {
    "ExecuteTime": {
     "end_time": "2019-01-28T19:08:32.179470Z",
     "start_time": "2019-01-28T19:08:31.519918Z"
    }
   },
   "outputs": [],
   "source": [
    "%%read_sql\n",
    "SELECT *\n",
    "FROM {schema}.claims_logreg_test_auc"
   ]
  },
  {
   "cell_type": "code",
   "execution_count": null,
   "metadata": {
    "ExecuteTime": {
     "end_time": "2019-01-28T19:08:33.532032Z",
     "start_time": "2019-01-28T19:08:32.181339Z"
    }
   },
   "outputs": [],
   "source": [
    "%%read_sql\n",
    "DROP TABLE IF EXISTS {schema}.claims_logreg_test_predict;\n",
    "CREATE TABLE {schema}.claims_logreg_test_predict\n",
    "AS\n",
    "SELECT\n",
    "    (proba >= 0.5)::integer as predicted,\n",
    "    insuranceclaim::integer as actual\n",
    "FROM {schema}.claims_logreg_test_proba"
   ]
  },
  {
   "cell_type": "code",
   "execution_count": null,
   "metadata": {
    "ExecuteTime": {
     "end_time": "2019-01-28T19:08:34.321474Z",
     "start_time": "2019-01-28T19:08:33.534077Z"
    }
   },
   "outputs": [],
   "source": [
    "%%read_sql\n",
    "SELECT\n",
    "madlib.confusion_matrix(\n",
    "    '{schema}.claims_logreg_test_predict', -- table_in\n",
    "    '{schema}.claims_logreg_test_conf_matrix', -- table_out\n",
    "    'predicted',  --prediction_col\n",
    "    'actual' --observation_col\n",
    ")"
   ]
  },
  {
   "cell_type": "code",
   "execution_count": null,
   "metadata": {
    "ExecuteTime": {
     "end_time": "2019-01-28T19:08:34.985124Z",
     "start_time": "2019-01-28T19:08:34.323407Z"
    }
   },
   "outputs": [],
   "source": [
    "%%read_sql\n",
    "SELECT \n",
    "    row_id,\n",
    "    class,\n",
    "    confusion_arr[1] as predicted_0,\n",
    "    confusion_arr[2] as predicted_1\n",
    "FROM {schema}.claims_logreg_test_conf_matrix\n",
    "ORDER BY row_id, class"
   ]
  },
  {
   "cell_type": "markdown",
   "metadata": {},
   "source": [
    "Get ROC values (thresholds, true-positives, false-positives)"
   ]
  },
  {
   "cell_type": "code",
   "execution_count": null,
   "metadata": {
    "ExecuteTime": {
     "end_time": "2019-01-28T19:08:35.857249Z",
     "start_time": "2019-01-28T19:08:34.987002Z"
    }
   },
   "outputs": [],
   "source": [
    "%%read_sql\n",
    "SELECT\n",
    "madlib.binary_classifier(\n",
    "    '{schema}.claims_logreg_test_proba', -- table_in\n",
    "    '{schema}.claims_logreg_test_binary_metrics', -- table_out\n",
    "    'proba',  --prediction_col\n",
    "    'insuranceclaim' --observation_col\n",
    ")"
   ]
  },
  {
   "cell_type": "markdown",
   "metadata": {},
   "source": [
    "The `-d` flag for the `%%read_sql` magic command below keeps it from displaying the query result, which in this case is many rows that we want stored in the `logreg_metrics` dataframe but don't want to print the whole thing. "
   ]
  },
  {
   "cell_type": "code",
   "execution_count": null,
   "metadata": {
    "ExecuteTime": {
     "end_time": "2019-01-28T19:08:36.737806Z",
     "start_time": "2019-01-28T19:08:35.859245Z"
    }
   },
   "outputs": [],
   "source": [
    "%%read_sql -d logreg_metrics\n",
    "SELECT *\n",
    "FROM {schema}.claims_logreg_test_binary_metrics\n",
    "ORDER BY threshold"
   ]
  },
  {
   "cell_type": "code",
   "execution_count": null,
   "metadata": {
    "ExecuteTime": {
     "end_time": "2019-01-28T19:08:36.754829Z",
     "start_time": "2019-01-28T19:08:36.739818Z"
    }
   },
   "outputs": [],
   "source": [
    "logreg_metrics.head()"
   ]
  },
  {
   "cell_type": "code",
   "execution_count": null,
   "metadata": {
    "ExecuteTime": {
     "end_time": "2019-01-28T19:08:36.913667Z",
     "start_time": "2019-01-28T19:08:36.756522Z"
    }
   },
   "outputs": [],
   "source": [
    "logreg_metrics.plot('fpr', 'tpr')"
   ]
  },
  {
   "cell_type": "markdown",
   "metadata": {},
   "source": [
    "## Random Forest Classifier"
   ]
  },
  {
   "cell_type": "code",
   "execution_count": null,
   "metadata": {
    "ExecuteTime": {
     "end_time": "2019-01-28T19:08:45.070583Z",
     "start_time": "2019-01-28T19:08:44.412073Z"
    }
   },
   "outputs": [],
   "source": [
    "%%read_sql\n",
    "SELECT * \n",
    "FROM {schema}.claims_eval_train\n",
    "LIMIT 5"
   ]
  },
  {
   "cell_type": "code",
   "execution_count": null,
   "metadata": {
    "ExecuteTime": {
     "end_time": "2019-01-28T19:11:19.956287Z",
     "start_time": "2019-01-28T19:11:16.748775Z"
    }
   },
   "outputs": [],
   "source": [
    "%%read_sql\n",
    "SELECT\n",
    "madlib.forest_train(\n",
    "    '{schema}.claims_eval_train',  -- training_table_name\n",
    "    '{schema}.claims_rf_model',  -- output_table_name\n",
    "    'id',  -- id_col_name\n",
    "    'insuranceclaim_bool',  -- dependent_variable\n",
    "    'age,sex,bmi,steps,children,smoker,charges,region_0,region_1,region_2,region_3',  -- list_of_features\n",
    "    NULL,  -- list_of_features_to_exclude\n",
    "    NULL,  -- grouping_columns\n",
    "    10  -- number of trees\n",
    ")\n"
   ]
  },
  {
   "cell_type": "markdown",
   "metadata": {},
   "source": [
    "We can peek at the Random Forest model table, though its contents are encoded in a not so human-friendly format."
   ]
  },
  {
   "cell_type": "code",
   "execution_count": null,
   "metadata": {
    "ExecuteTime": {
     "end_time": "2019-01-28T19:14:13.107081Z",
     "start_time": "2019-01-28T19:14:12.450608Z"
    }
   },
   "outputs": [],
   "source": [
    "%%read_sql\n",
    "SELECT count(*) \n",
    "FROM {schema}.claims_rf_model"
   ]
  },
  {
   "cell_type": "code",
   "execution_count": null,
   "metadata": {
    "ExecuteTime": {
     "end_time": "2019-01-28T19:13:55.489685Z",
     "start_time": "2019-01-28T19:13:54.067630Z"
    }
   },
   "outputs": [],
   "source": [
    "%%read_sql\n",
    "SELECT * \n",
    "FROM {schema}.claims_rf_model\n",
    "LIMIT 5"
   ]
  },
  {
   "cell_type": "code",
   "execution_count": null,
   "metadata": {
    "ExecuteTime": {
     "end_time": "2019-01-28T19:19:12.524384Z",
     "start_time": "2019-01-28T19:19:11.779045Z"
    }
   },
   "outputs": [],
   "source": [
    "%%read_sql rf_tree1\n",
    "SELECT madlib.get_tree(\n",
    "    '{schema}.claims_rf_model',\n",
    "    1,\n",
    "    1,\n",
    "    FALSE  -- return results in dot_format? (boolean)\n",
    ") "
   ]
  },
  {
   "cell_type": "code",
   "execution_count": null,
   "metadata": {
    "ExecuteTime": {
     "end_time": "2019-01-28T19:19:26.644516Z",
     "start_time": "2019-01-28T19:19:26.641475Z"
    },
    "scrolled": true
   },
   "outputs": [],
   "source": [
    "print(rf_tree1.iloc[0,0])"
   ]
  },
  {
   "cell_type": "code",
   "execution_count": null,
   "metadata": {
    "ExecuteTime": {
     "end_time": "2019-01-28T19:20:04.479147Z",
     "start_time": "2019-01-28T19:20:03.736738Z"
    }
   },
   "outputs": [],
   "source": [
    "%%read_sql rf_tree1_dot\n",
    "SELECT madlib.get_tree(\n",
    "    '{schema}.claims_rf_model',\n",
    "    1,\n",
    "    1,\n",
    "    TRUE  -- return results in dot_format? (boolean)\n",
    ") "
   ]
  },
  {
   "cell_type": "code",
   "execution_count": null,
   "metadata": {
    "ExecuteTime": {
     "end_time": "2019-01-28T20:44:31.980502Z",
     "start_time": "2019-01-28T20:44:31.592940Z"
    }
   },
   "outputs": [],
   "source": [
    "if graphviz_installed:\n",
    "    rf_dot_source = graphviz.Source(rf_tree1_dot.iloc[0,0])\n",
    "    display(rf_dot_source)"
   ]
  },
  {
   "cell_type": "code",
   "execution_count": null,
   "metadata": {
    "ExecuteTime": {
     "end_time": "2019-01-28T20:05:03.688986Z",
     "start_time": "2019-01-28T20:05:01.946018Z"
    }
   },
   "outputs": [],
   "source": [
    "%%read_sql -d\n",
    "DROP TABLE IF EXISTS {schema}.claims_rf_test_proba;\n",
    "SELECT\n",
    "madlib.forest_predict(\n",
    "    '{schema}.claims_rf_model',  -- random_forest_model\n",
    "    '{schema}.claims_eval_test',  -- new_data_table\n",
    "    '{schema}.claims_rf_test_proba',  -- output_table\n",
    "    'prob'  -- type\n",
    ")"
   ]
  },
  {
   "cell_type": "code",
   "execution_count": null,
   "metadata": {
    "ExecuteTime": {
     "end_time": "2019-01-28T20:05:15.935242Z",
     "start_time": "2019-01-28T20:05:15.284433Z"
    }
   },
   "outputs": [],
   "source": [
    "%%read_sql\n",
    "SELECT * \n",
    "FROM {schema}.claims_rf_test_proba\n",
    "LIMIT 5"
   ]
  },
  {
   "cell_type": "code",
   "execution_count": null,
   "metadata": {
    "ExecuteTime": {
     "end_time": "2019-01-28T20:07:26.354023Z",
     "start_time": "2019-01-28T20:07:24.939822Z"
    }
   },
   "outputs": [],
   "source": [
    "%%read_sql\n",
    "DROP TABLE IF EXISTS {schema}.claims_rf_test_predict_actual;\n",
    "CREATE TABLE {schema}.claims_rf_test_predict_actual\n",
    "AS\n",
    "SELECT \n",
    "    test.id,\n",
    "    prob.estimated_prob_true,\n",
    "    prob.estimated_prob_true >= 0.5 as predicted_class,\n",
    "    test.insuranceclaim_bool as actual_class\n",
    "FROM \n",
    "    {schema}.claims_rf_test_proba prob\n",
    "INNER JOIN\n",
    "    {schema}.claims_eval_test test\n",
    "ON\n",
    "    prob.id = test.id"
   ]
  },
  {
   "cell_type": "code",
   "execution_count": null,
   "metadata": {
    "ExecuteTime": {
     "end_time": "2019-01-28T20:08:20.815261Z",
     "start_time": "2019-01-28T20:08:19.398745Z"
    }
   },
   "outputs": [],
   "source": [
    "%%read_sql\n",
    "DROP TABLE IF EXISTS {schema}.claims_rf_test_binary_metrics;\n",
    "SELECT\n",
    "madlib.binary_classifier(\n",
    "    '{schema}.claims_rf_test_predict_actual', -- table_in\n",
    "    '{schema}.claims_rf_test_binary_metrics', -- table_out\n",
    "    'estimated_prob_true',  --prediction_col\n",
    "    'actual_class' --observation_col\n",
    ")"
   ]
  },
  {
   "cell_type": "code",
   "execution_count": null,
   "metadata": {
    "ExecuteTime": {
     "end_time": "2019-01-28T20:08:43.070046Z",
     "start_time": "2019-01-28T20:08:42.407663Z"
    }
   },
   "outputs": [],
   "source": [
    "%%read_sql\n",
    "SELECT * \n",
    "FROM {schema}.claims_rf_test_binary_metrics\n",
    "ORDER BY threshold\n",
    "LIMIT 5"
   ]
  },
  {
   "cell_type": "code",
   "execution_count": null,
   "metadata": {
    "ExecuteTime": {
     "end_time": "2019-01-28T20:08:58.540300Z",
     "start_time": "2019-01-28T20:08:57.893969Z"
    }
   },
   "outputs": [],
   "source": [
    "%%read_sql -d rf_metrics\n",
    "SELECT fpr, tpr\n",
    "FROM {schema}.claims_rf_test_binary_metrics\n",
    "ORDER BY threshold"
   ]
  },
  {
   "cell_type": "code",
   "execution_count": null,
   "metadata": {
    "ExecuteTime": {
     "end_time": "2019-01-28T20:09:02.606638Z",
     "start_time": "2019-01-28T20:09:02.461850Z"
    }
   },
   "outputs": [],
   "source": [
    "rf_metrics.plot('fpr', 'tpr')"
   ]
  },
  {
   "cell_type": "code",
   "execution_count": null,
   "metadata": {
    "ExecuteTime": {
     "end_time": "2019-01-28T20:09:21.430826Z",
     "start_time": "2019-01-28T20:09:20.028273Z"
    }
   },
   "outputs": [],
   "source": [
    "%%read_sql\n",
    "DROP TABLE IF EXISTS {schema}.abalone_rf_test_auc CASCADE;\n",
    "SELECT\n",
    "madlib.area_under_roc(\n",
    "    '{schema}.claims_rf_test_predict_actual', -- table_in\n",
    "    '{schema}.claims_rf_test_auc', -- table_out\n",
    "    'estimated_prob_true',  --prediction_col\n",
    "    'actual_class' --observation_col\n",
    ")"
   ]
  },
  {
   "cell_type": "code",
   "execution_count": null,
   "metadata": {
    "ExecuteTime": {
     "end_time": "2019-01-28T20:09:33.772682Z",
     "start_time": "2019-01-28T20:09:33.117953Z"
    }
   },
   "outputs": [],
   "source": [
    "%%read_sql\n",
    "SELECT * \n",
    "FROM {schema}.claims_rf_test_auc\n",
    "LIMIT 5"
   ]
  },
  {
   "cell_type": "code",
   "execution_count": null,
   "metadata": {},
   "outputs": [],
   "source": []
  }
 ],
 "metadata": {
  "kernelspec": {
   "display_name": "Python 3.7",
   "language": "python",
   "name": "py37"
  },
  "language_info": {
   "codemirror_mode": {
    "name": "ipython",
    "version": 3
   },
   "file_extension": ".py",
   "mimetype": "text/x-python",
   "name": "python",
   "nbconvert_exporter": "python",
   "pygments_lexer": "ipython3",
   "version": "3.7.0"
  },
  "toc": {
   "base_numbering": 1,
   "nav_menu": {
    "height": "98.9915px",
    "width": "180.994px"
   },
   "number_sections": true,
   "sideBar": true,
   "skip_h1_title": false,
   "title_cell": "Table of Contents",
   "title_sidebar": "Contents",
   "toc_cell": true,
   "toc_position": {
    "height": "calc(100% - 180px)",
    "left": "10px",
    "top": "150px",
    "width": "204px"
   },
   "toc_section_display": true,
   "toc_window_display": true
  }
 },
 "nbformat": 4,
 "nbformat_minor": 2
}
